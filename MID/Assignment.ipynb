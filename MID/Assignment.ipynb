{
 "cells": [
  {
   "cell_type": "code",
   "execution_count": 2,
   "metadata": {},
   "outputs": [],
   "source": [
    "import tensorflow as tf\n",
    "from tensorflow import keras\n",
    "\n",
    "import os\n",
    "os.environ['TF_ENABLE_ONEDNN_OPTS'] = '0'\n",
    "import cv2\n",
    "import random\n",
    "import numpy as np\n",
    "import matplotlib.pyplot as plt\n",
    "from tqdm import tqdm\n",
    "from sklearn.model_selection import train_test_split\n",
    "from tensorflow.keras.utils import to_categorical\n",
    "from tensorflow.keras import layers, models\n",
    "from tensorflow.keras.optimizers import Adam\n"
   ]
  },
  {
   "cell_type": "code",
   "execution_count": 3,
   "metadata": {},
   "outputs": [],
   "source": [
    "dataset_path = '/Users/mohammadnur/Downloads/Imagedata'"
   ]
  },
  {
   "cell_type": "code",
   "execution_count": 4,
   "metadata": {},
   "outputs": [
    {
     "name": "stderr",
     "output_type": "stream",
     "text": [
      "  7%|▋         | 5/76 [00:00<00:02, 25.63it/s]"
     ]
    },
    {
     "name": "stdout",
     "output_type": "stream",
     "text": [
      "Warning: Could not load image /Users/mohammadnur/Downloads/Imagedata/ASHA ISLAM/placeholder.txt\n",
      "Warning: Could not load image /Users/mohammadnur/Downloads/Imagedata/ARNAB BISHAKH SARKER/placeholder.txt\n",
      "Warning: Could not load image /Users/mohammadnur/Downloads/Imagedata/NAORIN SULTANA/placeholder.txt\n",
      "Warning: Could not load image /Users/mohammadnur/Downloads/Imagedata/MD SAIFUR RAHMAN SADI/placeholder.txt\n"
     ]
    },
    {
     "name": "stderr",
     "output_type": "stream",
     "text": [
      " 11%|█         | 8/76 [00:00<00:06, 11.16it/s]"
     ]
    },
    {
     "name": "stdout",
     "output_type": "stream",
     "text": [
      "Warning: Could not load image /Users/mohammadnur/Downloads/Imagedata/MD ABU ZAYED KHAN/IMG_5580.HEIC\n",
      "Warning: Could not load image /Users/mohammadnur/Downloads/Imagedata/MD ABU ZAYED KHAN/IMG_5903.HEIC\n",
      "Warning: Could not load image /Users/mohammadnur/Downloads/Imagedata/MD ABU ZAYED KHAN/placeholder.txt\n",
      "Warning: Could not load image /Users/mohammadnur/Downloads/Imagedata/MD ABU ZAYED KHAN/IMG_1033.HEIC\n",
      "Warning: Could not load image /Users/mohammadnur/Downloads/Imagedata/MD ABU ZAYED KHAN/IMG_0785.HEIC\n",
      "Warning: Could not load image /Users/mohammadnur/Downloads/Imagedata/NUR MOHAMMAD/placeholder.txt\n",
      "Warning: Could not load image /Users/mohammadnur/Downloads/Imagedata/TARIKUL ISLAM NISHAT/placeholder.txt\n"
     ]
    },
    {
     "name": "stderr",
     "output_type": "stream",
     "text": [
      " 13%|█▎        | 10/76 [00:00<00:06, 10.50it/s]"
     ]
    },
    {
     "name": "stdout",
     "output_type": "stream",
     "text": [
      "Warning: Could not load image /Users/mohammadnur/Downloads/Imagedata/MD SAJID ISLAM KHAN/placeholder.txt\n",
      "Warning: Could not load image /Users/mohammadnur/Downloads/Imagedata/SUMAIYA SULTANA TARIN/placeholder.txt\n",
      "Warning: Could not load image /Users/mohammadnur/Downloads/Imagedata/MOHAMMED TANVIR HASSAN/placeholder.txt\n"
     ]
    },
    {
     "name": "stderr",
     "output_type": "stream",
     "text": [
      " 18%|█▊        | 14/76 [00:01<00:08,  7.75it/s]"
     ]
    },
    {
     "name": "stdout",
     "output_type": "stream",
     "text": [
      "Warning: Could not load image /Users/mohammadnur/Downloads/Imagedata/SADAT BIN MASUD/placeholder.txt\n"
     ]
    },
    {
     "name": "stderr",
     "output_type": "stream",
     "text": [
      " 21%|██        | 16/76 [00:01<00:07,  7.97it/s]"
     ]
    },
    {
     "name": "stdout",
     "output_type": "stream",
     "text": [
      "Warning: Could not load image /Users/mohammadnur/Downloads/Imagedata/MD TOYABUR RAHAMAN/placeholder.txt\n",
      "Warning: Could not load image /Users/mohammadnur/Downloads/Imagedata/MAHNAZ HOSSAIN/placeholder.txt\n",
      "Warning: Could not load image /Users/mohammadnur/Downloads/Imagedata/SHAHRIAR HOSSAIN/placeholder.txt\n"
     ]
    },
    {
     "name": "stderr",
     "output_type": "stream",
     "text": [
      " 26%|██▋       | 20/76 [00:02<00:06,  8.13it/s]"
     ]
    },
    {
     "name": "stdout",
     "output_type": "stream",
     "text": [
      "Warning: Could not load image /Users/mohammadnur/Downloads/Imagedata/MD RIFAT SHIKDAR/placeholder.txt\n",
      "Warning: Could not load image /Users/mohammadnur/Downloads/Imagedata/SHAH MD MOHIBBULLAH SHOVON/placeholder.txt\n"
     ]
    },
    {
     "name": "stderr",
     "output_type": "stream",
     "text": [
      " 30%|███       | 23/76 [00:03<00:14,  3.64it/s]"
     ]
    },
    {
     "name": "stdout",
     "output_type": "stream",
     "text": [
      "Warning: Could not load image /Users/mohammadnur/Downloads/Imagedata/ELMA ISLAM/IMG_8258.HEIC\n",
      "Warning: Could not load image /Users/mohammadnur/Downloads/Imagedata/ELMA ISLAM/placeholder.txt\n",
      "Warning: Could not load image /Users/mohammadnur/Downloads/Imagedata/KHANDAKER AZNAN ALAM SEAM/placeholder.txt\n"
     ]
    },
    {
     "name": "stderr",
     "output_type": "stream",
     "text": [
      " 33%|███▎      | 25/76 [00:03<00:12,  4.20it/s]"
     ]
    },
    {
     "name": "stdout",
     "output_type": "stream",
     "text": [
      "Warning: Could not load image /Users/mohammadnur/Downloads/Imagedata/MAHFUZUR RAHMAN FERDOUS/placeholder.txt\n",
      "Warning: Could not load image /Users/mohammadnur/Downloads/Imagedata/TAHFIM IBN KHAN/IMG_6828.heic\n",
      "Warning: Could not load image /Users/mohammadnur/Downloads/Imagedata/TAHFIM IBN KHAN/IMG_6412.heic\n",
      "Warning: Could not load image /Users/mohammadnur/Downloads/Imagedata/TAHFIM IBN KHAN/IMG_7701.heic\n",
      "Warning: Could not load image /Users/mohammadnur/Downloads/Imagedata/TAHFIM IBN KHAN/IMG_4551.heic\n",
      "Warning: Could not load image /Users/mohammadnur/Downloads/Imagedata/TAHFIM IBN KHAN/IMG_6910.heic\n",
      "Warning: Could not load image /Users/mohammadnur/Downloads/Imagedata/TAHFIM IBN KHAN/IMG_6194.heic\n",
      "Warning: Could not load image /Users/mohammadnur/Downloads/Imagedata/TAHFIM IBN KHAN/IMG_6908.heic\n",
      "Warning: Could not load image /Users/mohammadnur/Downloads/Imagedata/TAHFIM IBN KHAN/IMG_4485.heic\n",
      "Warning: Could not load image /Users/mohammadnur/Downloads/Imagedata/TAHFIM IBN KHAN/IMG_7114.HEIC\n",
      "Warning: Could not load image /Users/mohammadnur/Downloads/Imagedata/TAHFIM IBN KHAN/IMG_7416.heic\n",
      "Warning: Could not load image /Users/mohammadnur/Downloads/Imagedata/TAHFIM IBN KHAN/IMG_6728.heic\n",
      "Warning: Could not load image /Users/mohammadnur/Downloads/Imagedata/TAHFIM IBN KHAN/IMG_6636.heic\n",
      "Warning: Could not load image /Users/mohammadnur/Downloads/Imagedata/TAHFIM IBN KHAN/IMG_6909.heic\n",
      "Warning: Could not load image /Users/mohammadnur/Downloads/Imagedata/TAHFIM IBN KHAN/IMG_4568.heic\n",
      "Warning: Could not load image /Users/mohammadnur/Downloads/Imagedata/TAHFIM IBN KHAN/IMG_6168.heic\n",
      "Warning: Could not load image /Users/mohammadnur/Downloads/Imagedata/TAHFIM IBN KHAN/IMG_7523.heic\n",
      "Warning: Could not load image /Users/mohammadnur/Downloads/Imagedata/TAHFIM IBN KHAN/IMG_5676.heic\n",
      "Warning: Could not load image /Users/mohammadnur/Downloads/Imagedata/TAHFIM IBN KHAN/IMG_4494.heic\n",
      "Warning: Could not load image /Users/mohammadnur/Downloads/Imagedata/TAHFIM IBN KHAN/IMG_4586.heic\n",
      "Warning: Could not load image /Users/mohammadnur/Downloads/Imagedata/RIDWAN AHMED ARMAN/placeholder.txt\n",
      "Warning: Could not load image /Users/mohammadnur/Downloads/Imagedata/TIRTHA BARUA/placeholder.txt\n"
     ]
    },
    {
     "name": "stderr",
     "output_type": "stream",
     "text": [
      " 42%|████▏     | 32/76 [00:05<00:10,  4.38it/s]"
     ]
    },
    {
     "name": "stdout",
     "output_type": "stream",
     "text": [
      "Warning: Could not load image /Users/mohammadnur/Downloads/Imagedata/MD NAFIZ AHMED/placeholder.txt\n"
     ]
    },
    {
     "name": "stderr",
     "output_type": "stream",
     "text": [
      " 43%|████▎     | 33/76 [00:06<00:13,  3.12it/s]"
     ]
    },
    {
     "name": "stdout",
     "output_type": "stream",
     "text": [
      "Warning: Could not load image /Users/mohammadnur/Downloads/Imagedata/THASNOVA SININ/placeholder.txt\n",
      "Warning: Could not load image /Users/mohammadnur/Downloads/Imagedata/MAHASHETAB HASSAN/placeholder.txt\n"
     ]
    },
    {
     "name": "stderr",
     "output_type": "stream",
     "text": [
      " 51%|█████▏    | 39/76 [00:06<00:07,  4.94it/s]"
     ]
    },
    {
     "name": "stdout",
     "output_type": "stream",
     "text": [
      "Warning: Could not load image /Users/mohammadnur/Downloads/Imagedata/MOHAMMAD RAFIUL HAQUE/placeholder.txt\n"
     ]
    },
    {
     "name": "stderr",
     "output_type": "stream",
     "text": [
      " 59%|█████▉    | 45/76 [00:08<00:07,  4.10it/s]"
     ]
    },
    {
     "name": "stdout",
     "output_type": "stream",
     "text": [
      "Warning: Could not load image /Users/mohammadnur/Downloads/Imagedata/MD MUSFIQUR RAHMAN/placeholder.txt\n",
      "Warning: Could not load image /Users/mohammadnur/Downloads/Imagedata/BISHANATH TARAFDER/placeholder.txt\n",
      "Warning: Could not load image /Users/mohammadnur/Downloads/Imagedata/MREDUL MAHMUD AKASH/placeholder.txt\n",
      "Warning: Could not load image /Users/mohammadnur/Downloads/Imagedata/SABBIR AHMED/image\n",
      "Warning: Could not load image /Users/mohammadnur/Downloads/Imagedata/SABBIR AHMED/placeholder.txt\n",
      "Warning: Could not load image /Users/mohammadnur/Downloads/Imagedata/PARBOTI DAS PUJA/placeholder.txt\n"
     ]
    },
    {
     "name": "stderr",
     "output_type": "stream",
     "text": [
      " 68%|██████▊   | 52/76 [00:09<00:05,  4.80it/s]"
     ]
    },
    {
     "name": "stdout",
     "output_type": "stream",
     "text": [
      "Warning: Could not load image /Users/mohammadnur/Downloads/Imagedata/MAHBUBUL ISLAM ABDULLAH/placeholder.txt\n"
     ]
    },
    {
     "name": "stderr",
     "output_type": "stream",
     "text": [
      " 71%|███████   | 54/76 [00:10<00:04,  4.42it/s]"
     ]
    },
    {
     "name": "stdout",
     "output_type": "stream",
     "text": [
      "Warning: Could not load image /Users/mohammadnur/Downloads/Imagedata/BORSHON ALFRED GOMES/placeholder.txt\n"
     ]
    },
    {
     "name": "stderr",
     "output_type": "stream",
     "text": [
      " 75%|███████▌  | 57/76 [00:10<00:03,  4.80it/s]"
     ]
    },
    {
     "name": "stdout",
     "output_type": "stream",
     "text": [
      "Warning: Could not load image /Users/mohammadnur/Downloads/Imagedata/SYEDA HUMAIRA JABEEN/IMG_3257.heic\n",
      "Warning: Could not load image /Users/mohammadnur/Downloads/Imagedata/SYEDA HUMAIRA JABEEN/IMG_3638.heic\n",
      "Warning: Could not load image /Users/mohammadnur/Downloads/Imagedata/SYEDA HUMAIRA JABEEN/placeholder.txt\n",
      "Warning: Could not load image /Users/mohammadnur/Downloads/Imagedata/SHEIKH AKIB ALMAS/placeholder.txt\n"
     ]
    },
    {
     "name": "stderr",
     "output_type": "stream",
     "text": [
      " 79%|███████▉  | 60/76 [00:11<00:02,  5.73it/s]"
     ]
    },
    {
     "name": "stdout",
     "output_type": "stream",
     "text": [
      "Warning: Could not load image /Users/mohammadnur/Downloads/Imagedata/MD NAZMUL HASSAN BHUIYAN/placeholder.txt\n",
      "Warning: Could not load image /Users/mohammadnur/Downloads/Imagedata/MD ASRAFUL KABIR SOHAN/placeholder.txt\n",
      "Warning: Could not load image /Users/mohammadnur/Downloads/Imagedata/NAVID MAHFUZ NAYEEM/placeholder.txt\n"
     ]
    },
    {
     "name": "stderr",
     "output_type": "stream",
     "text": [
      " 82%|████████▏ | 62/76 [00:12<00:04,  3.30it/s]"
     ]
    },
    {
     "name": "stdout",
     "output_type": "stream",
     "text": [
      "Warning: Could not load image /Users/mohammadnur/Downloads/Imagedata/IMAM HASAN JAMI/IMG_2685.heic\n",
      "Warning: Could not load image /Users/mohammadnur/Downloads/Imagedata/IMAM HASAN JAMI/IMG_6551.heic\n"
     ]
    },
    {
     "name": "stderr",
     "output_type": "stream",
     "text": [
      " 83%|████████▎ | 63/76 [00:13<00:05,  2.55it/s]"
     ]
    },
    {
     "name": "stdout",
     "output_type": "stream",
     "text": [
      "Warning: Could not load image /Users/mohammadnur/Downloads/Imagedata/IMAM HASAN JAMI/IMG_0631.heic\n",
      "Warning: Could not load image /Users/mohammadnur/Downloads/Imagedata/IMAM HASAN JAMI/IMG_3065.heic\n",
      "Warning: Could not load image /Users/mohammadnur/Downloads/Imagedata/IMAM HASAN JAMI/placeholder.txt\n",
      "Warning: Could not load image /Users/mohammadnur/Downloads/Imagedata/NILOY GHARAMI/placeholder.txt\n",
      "Warning: Could not load image /Users/mohammadnur/Downloads/Imagedata/MD ABID HASAN RAPPY/placeholder.txt\n",
      "Warning: Could not load image /Users/mohammadnur/Downloads/Imagedata/SRABONE RAXIT/9.HEIC\n",
      "Warning: Could not load image /Users/mohammadnur/Downloads/Imagedata/SRABONE RAXIT/19.HEIC\n",
      "Warning: Could not load image /Users/mohammadnur/Downloads/Imagedata/SRABONE RAXIT/15.HEIC\n",
      "Warning: Could not load image /Users/mohammadnur/Downloads/Imagedata/SRABONE RAXIT/18.HEIC\n",
      "Warning: Could not load image /Users/mohammadnur/Downloads/Imagedata/SRABONE RAXIT/12.HEIC\n",
      "Warning: Could not load image /Users/mohammadnur/Downloads/Imagedata/SRABONE RAXIT/2.HEIC\n",
      "Warning: Could not load image /Users/mohammadnur/Downloads/Imagedata/SRABONE RAXIT/11.HEIC\n",
      "Warning: Could not load image /Users/mohammadnur/Downloads/Imagedata/SRABONE RAXIT/10.HEIC\n",
      "Warning: Could not load image /Users/mohammadnur/Downloads/Imagedata/SRABONE RAXIT/17.HEIC\n",
      "Warning: Could not load image /Users/mohammadnur/Downloads/Imagedata/SRABONE RAXIT/7.HEIC\n",
      "Warning: Could not load image /Users/mohammadnur/Downloads/Imagedata/SRABONE RAXIT/16.HEIC\n"
     ]
    },
    {
     "name": "stderr",
     "output_type": "stream",
     "text": [
      " 87%|████████▋ | 66/76 [00:13<00:02,  3.50it/s]"
     ]
    },
    {
     "name": "stdout",
     "output_type": "stream",
     "text": [
      "Warning: Could not load image /Users/mohammadnur/Downloads/Imagedata/SRABONE RAXIT/20.HEIC\n"
     ]
    },
    {
     "name": "stderr",
     "output_type": "stream",
     "text": [
      " 88%|████████▊ | 67/76 [00:14<00:03,  2.92it/s]"
     ]
    },
    {
     "name": "stdout",
     "output_type": "stream",
     "text": [
      "Warning: Could not load image /Users/mohammadnur/Downloads/Imagedata/MOMOTAZ YEASMIN/placeholder.txt\n"
     ]
    },
    {
     "name": "stderr",
     "output_type": "stream",
     "text": [
      " 95%|█████████▍| 72/76 [00:16<00:01,  2.35it/s]"
     ]
    },
    {
     "name": "stdout",
     "output_type": "stream",
     "text": [
      "Warning: Could not load image /Users/mohammadnur/Downloads/Imagedata/TAHMID AL RAFID SIDDIQUE/placeholder.txt\n",
      "Warning: Could not load image /Users/mohammadnur/Downloads/Imagedata/SHOAIB AHMAD/placeholder.txt\n"
     ]
    },
    {
     "name": "stderr",
     "output_type": "stream",
     "text": [
      "100%|██████████| 76/76 [00:17<00:00,  4.43it/s]\n"
     ]
    }
   ],
   "source": [
    "# Load dataset with resizing images to the same dimensions\n",
    "def load_dataset(dataset_path):\n",
    "    images = []\n",
    "    labels = []\n",
    "    label_names = os.listdir(dataset_path)\n",
    "    for index, name in enumerate(tqdm(label_names)):\n",
    "        folder_path = os.path.join(dataset_path, name)\n",
    "        for image_name in os.listdir(folder_path):\n",
    "            image_path = os.path.join(folder_path, image_name)\n",
    "            image = cv2.imread(image_path)\n",
    "            if image is not None:  # Check if the image was successfully loaded\n",
    "                image = cv2.resize(image, (200, 200))  # Resize images to 224x224 pixels\n",
    "                images.append(image)\n",
    "                labels.append(index)\n",
    "            else:\n",
    "                print(f\"Warning: Could not load image {image_path}\")\n",
    "    images = np.array(images, dtype='float32') / 255.0  # Normalize images\n",
    "    labels = np.array(labels)\n",
    "    labels = to_categorical(labels, num_classes=len(label_names))\n",
    "    return images, labels, label_names\n",
    "\n",
    "images, labels, label_names = load_dataset(dataset_path)\n"
   ]
  },
  {
   "cell_type": "code",
   "execution_count": 5,
   "metadata": {},
   "outputs": [],
   "source": [
    "# Split dataset\n",
    "X_train, X_test, y_train, y_test = train_test_split(images, labels, test_size=0.2, random_state=42)"
   ]
  },
  {
   "cell_type": "code",
   "execution_count": 7,
   "metadata": {},
   "outputs": [
    {
     "ename": "NameError",
     "evalue": "name 'y_test' is not defined",
     "output_type": "error",
     "traceback": [
      "\u001b[0;31m---------------------------------------------------------------------------\u001b[0m",
      "\u001b[0;31mNameError\u001b[0m                                 Traceback (most recent call last)",
      "Cell \u001b[0;32mIn[7], line 21\u001b[0m\n\u001b[1;32m      3\u001b[0m \u001b[38;5;66;03m# # Save pickled data\u001b[39;00m\n\u001b[1;32m      4\u001b[0m \u001b[38;5;66;03m# with open(\"/Users/mohammadnur/Documents/cvpr_23_24_spring/X_train.pickle\", \"wb\") as pickle_out:\u001b[39;00m\n\u001b[1;32m      5\u001b[0m \u001b[38;5;66;03m#     pickle.dump(X_train, pickle_out)\u001b[39;00m\n\u001b[0;32m   (...)\u001b[0m\n\u001b[1;32m     17\u001b[0m \u001b[38;5;66;03m# with open(\"/Users/mohammadnur/Documents/cvpr_23_24_spring/X_test.pickle\", \"wb\") as pickle_out:\u001b[39;00m\n\u001b[1;32m     18\u001b[0m \u001b[38;5;66;03m#     pickle.dump(X_test, pickle_out)\u001b[39;00m\n\u001b[1;32m     20\u001b[0m \u001b[38;5;28;01mwith\u001b[39;00m \u001b[38;5;28mopen\u001b[39m(\u001b[38;5;124m\"\u001b[39m\u001b[38;5;124m/Users/mohammadnur/Documents/cvpr_23_24_spring/Y_test.pickle\u001b[39m\u001b[38;5;124m\"\u001b[39m, \u001b[38;5;124m\"\u001b[39m\u001b[38;5;124mwb\u001b[39m\u001b[38;5;124m\"\u001b[39m) \u001b[38;5;28;01mas\u001b[39;00m pickle_out:\n\u001b[0;32m---> 21\u001b[0m     pickle\u001b[38;5;241m.\u001b[39mdump(y_test, pickle_out)\n",
      "\u001b[0;31mNameError\u001b[0m: name 'y_test' is not defined"
     ]
    }
   ],
   "source": [
    "import pickle\n",
    "\n",
    "# Save pickled data\n",
    "with open(\"/Users/mohammadnur/Documents/cvpr_23_24_spring/X_train.pickle\", \"wb\") as pickle_out:\n",
    "    pickle.dump(X_train, pickle_out)\n",
    "\n",
    "\n",
    "with open(\"/Users/mohammadnur/Documents/cvpr_23_24_spring/Y_train.pickle\", \"wb\") as pickle_out:\n",
    "    pickle.dump(y_train, pickle_out)\n",
    "\n",
    "# with open(\"/Users/mohammadnur/Documents/cvpr_23_24_spring/X_valid.pickle\", \"wb\") as pickle_out:\n",
    "#     pickle.dump(X_valid, pickle_out)\n",
    "\n",
    "# with open(\"/Users/mohammadnur/Documents/cvpr_23_24_spring/Y_valid.pickle\", \"wb\") as pickle_out:\n",
    "#     pickle.dump(Y_valid, pickle_out)\n",
    "\n",
    "with open(\"/Users/mohammadnur/Documents/cvpr_23_24_spring/X_test.pickle\", \"wb\") as pickle_out:\n",
    "    pickle.dump(X_test, pickle_out)\n",
    "\n",
    "with open(\"/Users/mohammadnur/Documents/cvpr_23_24_spring/Y_test.pickle\", \"wb\") as pickle_out:\n",
    "    pickle.dump(y_test, pickle_out)"
   ]
  },
  {
   "cell_type": "code",
   "execution_count": 5,
   "metadata": {},
   "outputs": [],
   "source": [
    "\n",
    "\n",
    "# def build_model(num_classes):\n",
    "#     model = models.Sequential([\n",
    "#         layers.Conv2D(32, (3, 3), activation='relu', input_shape=(200, 200, 3)),\n",
    "#         layers.MaxPooling2D((2, 2)),\n",
    "#         layers.Conv2D(64, (3, 3), activation='relu'),\n",
    "#         layers.MaxPooling2D((2, 2)),\n",
    "#         layers.Conv2D(128, (3, 3), activation='relu'),\n",
    "#         layers.Flatten(),\n",
    "#         layers.Dense(256, activation='relu'),\n",
    "#         layers.Dense(num_classes, activation='softmax'),\n",
    "#     ])\n",
    "#     return model\n",
    "\n",
    "# model = build_model(num_classes=len(label_names))\n",
    "# model.compile(optimizer=Adam(learning_rate=0.01), loss='categorical_crossentropy', metrics=['accuracy'])\n"
   ]
  },
  {
   "cell_type": "code",
   "execution_count": 6,
   "metadata": {},
   "outputs": [
    {
     "name": "stderr",
     "output_type": "stream",
     "text": [
      "/opt/homebrew/anaconda3/lib/python3.11/site-packages/keras/src/layers/convolutional/base_conv.py:99: UserWarning: Do not pass an `input_shape`/`input_dim` argument to a layer. When using Sequential models, prefer using an `Input(shape)` object as the first layer in the model instead.\n",
      "  super().__init__(\n"
     ]
    }
   ],
   "source": [
    "# Build CNN model\n",
    "def build_model(num_classes):\n",
    "    model = models.Sequential([\n",
    "        layers.Conv2D(32, (3, 3), activation='relu', input_shape=(200, 200, 3)),\n",
    "        layers.MaxPooling2D((2, 2)),\n",
    "        layers.Conv2D(64, (3, 3), activation='relu'),\n",
    "        layers.MaxPooling2D((2, 2)),\n",
    "        layers.Conv2D(128, (3, 3), activation='relu'),\n",
    "        layers.Flatten(),\n",
    "        layers.Dense(512, activation='relu'),\n",
    "        layers.Dense(num_classes, activation='softmax'),\n",
    "    ])\n",
    "    return model\n",
    "\n",
    "model = build_model(num_classes=len(label_names))\n",
    "model.compile(optimizer=Adam(learning_rate=0.01), loss='categorical_crossentropy', metrics=['accuracy'])\n"
   ]
  },
  {
   "cell_type": "code",
   "execution_count": 7,
   "metadata": {},
   "outputs": [
    {
     "name": "stdout",
     "output_type": "stream",
     "text": [
      "Epoch 1/20\n",
      "\u001b[1m17/17\u001b[0m \u001b[32m━━━━━━━━━━━━━━━━━━━━\u001b[0m\u001b[37m\u001b[0m \u001b[1m184s\u001b[0m 11s/step - accuracy: 0.0359 - loss: 149.3205 - val_accuracy: 0.0606 - val_loss: 4.0165\n",
      "Epoch 2/20\n",
      "\u001b[1m17/17\u001b[0m \u001b[32m━━━━━━━━━━━━━━━━━━━━\u001b[0m\u001b[37m\u001b[0m \u001b[1m130s\u001b[0m 7s/step - accuracy: 0.0572 - loss: 3.9413 - val_accuracy: 0.0606 - val_loss: 3.7271\n",
      "Epoch 3/20\n",
      "\u001b[1m17/17\u001b[0m \u001b[32m━━━━━━━━━━━━━━━━━━━━\u001b[0m\u001b[37m\u001b[0m \u001b[1m131s\u001b[0m 7s/step - accuracy: 0.0579 - loss: 3.7418 - val_accuracy: 0.0606 - val_loss: 3.6654\n",
      "Epoch 4/20\n",
      "\u001b[1m17/17\u001b[0m \u001b[32m━━━━━━━━━━━━━━━━━━━━\u001b[0m\u001b[37m\u001b[0m \u001b[1m106s\u001b[0m 6s/step - accuracy: 0.0483 - loss: 3.7084 - val_accuracy: 0.0303 - val_loss: 3.6924\n",
      "Epoch 5/20\n",
      "\u001b[1m17/17\u001b[0m \u001b[32m━━━━━━━━━━━━━━━━━━━━\u001b[0m\u001b[37m\u001b[0m \u001b[1m1118s\u001b[0m 69s/step - accuracy: 0.0602 - loss: 3.6939 - val_accuracy: 0.0606 - val_loss: 3.6983\n",
      "Epoch 6/20\n",
      "\u001b[1m17/17\u001b[0m \u001b[32m━━━━━━━━━━━━━━━━━━━━\u001b[0m\u001b[37m\u001b[0m \u001b[1m354s\u001b[0m 21s/step - accuracy: 0.0533 - loss: 3.7109 - val_accuracy: 0.0606 - val_loss: 3.6748\n",
      "Epoch 7/20\n",
      "\u001b[1m17/17\u001b[0m \u001b[32m━━━━━━━━━━━━━━━━━━━━\u001b[0m\u001b[37m\u001b[0m \u001b[1m449s\u001b[0m 27s/step - accuracy: 0.0488 - loss: 3.7093 - val_accuracy: 0.0303 - val_loss: 3.6924\n",
      "Epoch 8/20\n",
      "\u001b[1m17/17\u001b[0m \u001b[32m━━━━━━━━━━━━━━━━━━━━\u001b[0m\u001b[37m\u001b[0m \u001b[1m4216s\u001b[0m 263s/step - accuracy: 0.0554 - loss: 3.6803 - val_accuracy: 0.0606 - val_loss: 3.6790\n",
      "Epoch 9/20\n",
      "\u001b[1m17/17\u001b[0m \u001b[32m━━━━━━━━━━━━━━━━━━━━\u001b[0m\u001b[37m\u001b[0m \u001b[1m2533s\u001b[0m 157s/step - accuracy: 0.0615 - loss: 3.7015 - val_accuracy: 0.0606 - val_loss: 3.6938\n",
      "Epoch 10/20\n",
      "\u001b[1m17/17\u001b[0m \u001b[32m━━━━━━━━━━━━━━━━━━━━\u001b[0m\u001b[37m\u001b[0m \u001b[1m134s\u001b[0m 7s/step - accuracy: 0.0527 - loss: 3.6725 - val_accuracy: 0.0606 - val_loss: 3.7010\n",
      "Epoch 11/20\n",
      "\u001b[1m17/17\u001b[0m \u001b[32m━━━━━━━━━━━━━━━━━━━━\u001b[0m\u001b[37m\u001b[0m \u001b[1m111s\u001b[0m 6s/step - accuracy: 0.0577 - loss: 3.6943 - val_accuracy: 0.0530 - val_loss: 3.6589\n",
      "Epoch 12/20\n",
      "\u001b[1m17/17\u001b[0m \u001b[32m━━━━━━━━━━━━━━━━━━━━\u001b[0m\u001b[37m\u001b[0m \u001b[1m123s\u001b[0m 7s/step - accuracy: 0.0279 - loss: 3.7216 - val_accuracy: 0.0303 - val_loss: 3.6988\n",
      "Epoch 13/20\n",
      "\u001b[1m17/17\u001b[0m \u001b[32m━━━━━━━━━━━━━━━━━━━━\u001b[0m\u001b[37m\u001b[0m \u001b[1m137s\u001b[0m 8s/step - accuracy: 0.0436 - loss: 3.7225 - val_accuracy: 0.0303 - val_loss: 3.6718\n",
      "Epoch 14/20\n",
      "\u001b[1m17/17\u001b[0m \u001b[32m━━━━━━━━━━━━━━━━━━━━\u001b[0m\u001b[37m\u001b[0m \u001b[1m119s\u001b[0m 7s/step - accuracy: 0.0475 - loss: 3.7171 - val_accuracy: 0.0606 - val_loss: 3.6967\n",
      "Epoch 15/20\n",
      "\u001b[1m17/17\u001b[0m \u001b[32m━━━━━━━━━━━━━━━━━━━━\u001b[0m\u001b[37m\u001b[0m \u001b[1m121s\u001b[0m 7s/step - accuracy: 0.0412 - loss: 3.6903 - val_accuracy: 0.0303 - val_loss: 3.6924\n",
      "Epoch 16/20\n",
      "\u001b[1m17/17\u001b[0m \u001b[32m━━━━━━━━━━━━━━━━━━━━\u001b[0m\u001b[37m\u001b[0m \u001b[1m107s\u001b[0m 6s/step - accuracy: 0.0362 - loss: 3.6934 - val_accuracy: 0.0606 - val_loss: 3.7010\n",
      "Epoch 17/20\n",
      "\u001b[1m17/17\u001b[0m \u001b[32m━━━━━━━━━━━━━━━━━━━━\u001b[0m\u001b[37m\u001b[0m \u001b[1m107s\u001b[0m 6s/step - accuracy: 0.0469 - loss: 3.7323 - val_accuracy: 0.0606 - val_loss: 3.6792\n",
      "Epoch 18/20\n",
      "\u001b[1m17/17\u001b[0m \u001b[32m━━━━━━━━━━━━━━━━━━━━\u001b[0m\u001b[37m\u001b[0m \u001b[1m1178s\u001b[0m 73s/step - accuracy: 0.0442 - loss: 3.7153 - val_accuracy: 0.0303 - val_loss: 3.6821\n",
      "Epoch 19/20\n",
      "\u001b[1m17/17\u001b[0m \u001b[32m━━━━━━━━━━━━━━━━━━━━\u001b[0m\u001b[37m\u001b[0m \u001b[1m112s\u001b[0m 7s/step - accuracy: 0.0575 - loss: 3.6861 - val_accuracy: 0.0606 - val_loss: 3.7000\n",
      "Epoch 20/20\n",
      "\u001b[1m17/17\u001b[0m \u001b[32m━━━━━━━━━━━━━━━━━━━━\u001b[0m\u001b[37m\u001b[0m \u001b[1m233s\u001b[0m 14s/step - accuracy: 0.0650 - loss: 3.6877 - val_accuracy: 0.0303 - val_loss: 3.7000\n"
     ]
    }
   ],
   "source": [
    "# Train model\n",
    "history = model.fit(X_train, y_train, epochs=20, validation_data=(X_test, y_test), batch_size=32)\n"
   ]
  },
  {
   "cell_type": "code",
   "execution_count": 9,
   "metadata": {},
   "outputs": [
    {
     "ename": "KeyboardInterrupt",
     "evalue": "",
     "output_type": "error",
     "traceback": [
      "\u001b[0;31m---------------------------------------------------------------------------\u001b[0m",
      "\u001b[0;31mKeyboardInterrupt\u001b[0m                         Traceback (most recent call last)",
      "Cell \u001b[0;32mIn[9], line 11\u001b[0m\n\u001b[1;32m      5\u001b[0m vid \u001b[38;5;241m=\u001b[39m cv2\u001b[38;5;241m.\u001b[39mVideoCapture(\u001b[38;5;241m0\u001b[39m) \n\u001b[1;32m      7\u001b[0m \u001b[38;5;28;01mwhile\u001b[39;00m(\u001b[38;5;28;01mTrue\u001b[39;00m): \n\u001b[1;32m      8\u001b[0m       \n\u001b[1;32m      9\u001b[0m     \u001b[38;5;66;03m# Capture the video frame \u001b[39;00m\n\u001b[1;32m     10\u001b[0m     \u001b[38;5;66;03m# by frame \u001b[39;00m\n\u001b[0;32m---> 11\u001b[0m     ret, frame \u001b[38;5;241m=\u001b[39m vid\u001b[38;5;241m.\u001b[39mread() \n\u001b[1;32m     13\u001b[0m     \u001b[38;5;66;03m# Display the resulting frame \u001b[39;00m\n\u001b[1;32m     14\u001b[0m     cv2\u001b[38;5;241m.\u001b[39mimshow(\u001b[38;5;124m'\u001b[39m\u001b[38;5;124mframe\u001b[39m\u001b[38;5;124m'\u001b[39m, frame) \n",
      "\u001b[0;31mKeyboardInterrupt\u001b[0m: "
     ]
    }
   ],
   "source": [
    "import cv2 \n",
    "  \n",
    "  \n",
    "# define a video capture object \n",
    "vid = cv2.VideoCapture(0) \n",
    "  \n",
    "while(True): \n",
    "      \n",
    "    # Capture the video frame \n",
    "    # by frame \n",
    "    ret, frame = vid.read() \n",
    "  \n",
    "    # Display the resulting frame \n",
    "    cv2.imshow('frame', frame) \n",
    "      \n",
    "    # the 'q' button is set as the \n",
    "    # quitting button you may use any \n",
    "    # desired button of your choice \n",
    "    if cv2.waitKey(1) & 0xFF == ord('q'): \n",
    "        break\n",
    "  \n",
    "# After the loop release the cap object \n",
    "vid.release() \n",
    "# Destroy all the windows \n",
    "cv2.destroyAllWindows() "
   ]
  },
  {
   "cell_type": "code",
   "execution_count": 10,
   "metadata": {},
   "outputs": [
    {
     "ename": "ValueError",
     "evalue": "Exception encountered when calling Sequential.call().\n\n\u001b[1mInput 0 of layer \"dense\" is incompatible with the layer: expected axis -1 of input shape to have value 270848, but received input with shape (1, 346112)\u001b[0m\n\nArguments received by Sequential.call():\n  • inputs=tf.Tensor(shape=(1, 224, 224, 3), dtype=float32)\n  • training=False\n  • mask=None",
     "output_type": "error",
     "traceback": [
      "\u001b[0;31m---------------------------------------------------------------------------\u001b[0m",
      "\u001b[0;31mValueError\u001b[0m                                Traceback (most recent call last)",
      "Cell \u001b[0;32mIn[10], line 40\u001b[0m\n\u001b[1;32m     37\u001b[0m     cv2\u001b[38;5;241m.\u001b[39mdestroyAllWindows()\n\u001b[1;32m     39\u001b[0m \u001b[38;5;66;03m# Assuming 'model' is your trained model and 'label_names' is a list of class names\u001b[39;00m\n\u001b[0;32m---> 40\u001b[0m real_time_recognition(model, label_names)\n",
      "Cell \u001b[0;32mIn[10], line 22\u001b[0m, in \u001b[0;36mreal_time_recognition\u001b[0;34m(model, label_names)\u001b[0m\n\u001b[1;32m     19\u001b[0m face \u001b[38;5;241m=\u001b[39m np\u001b[38;5;241m.\u001b[39mexpand_dims(face, axis\u001b[38;5;241m=\u001b[39m\u001b[38;5;241m0\u001b[39m)  \u001b[38;5;66;03m# Add batch dimension\u001b[39;00m\n\u001b[1;32m     20\u001b[0m face \u001b[38;5;241m=\u001b[39m face \u001b[38;5;241m/\u001b[39m \u001b[38;5;241m255.0\u001b[39m  \u001b[38;5;66;03m# Normalize pixel values to [0, 1] as during training\u001b[39;00m\n\u001b[0;32m---> 22\u001b[0m prediction \u001b[38;5;241m=\u001b[39m model\u001b[38;5;241m.\u001b[39mpredict(face)  \u001b[38;5;66;03m# Make prediction\u001b[39;00m\n\u001b[1;32m     23\u001b[0m predicted_class \u001b[38;5;241m=\u001b[39m label_names[np\u001b[38;5;241m.\u001b[39margmax(prediction)]  \u001b[38;5;66;03m# Get the name of the predicted class\u001b[39;00m\n\u001b[1;32m     25\u001b[0m \u001b[38;5;66;03m# Display the predicted class on the frame\u001b[39;00m\n",
      "File \u001b[0;32m/opt/homebrew/anaconda3/lib/python3.11/site-packages/keras/src/utils/traceback_utils.py:122\u001b[0m, in \u001b[0;36mfilter_traceback.<locals>.error_handler\u001b[0;34m(*args, **kwargs)\u001b[0m\n\u001b[1;32m    119\u001b[0m     filtered_tb \u001b[38;5;241m=\u001b[39m _process_traceback_frames(e\u001b[38;5;241m.\u001b[39m__traceback__)\n\u001b[1;32m    120\u001b[0m     \u001b[38;5;66;03m# To get the full stack trace, call:\u001b[39;00m\n\u001b[1;32m    121\u001b[0m     \u001b[38;5;66;03m# `keras.config.disable_traceback_filtering()`\u001b[39;00m\n\u001b[0;32m--> 122\u001b[0m     \u001b[38;5;28;01mraise\u001b[39;00m e\u001b[38;5;241m.\u001b[39mwith_traceback(filtered_tb) \u001b[38;5;28;01mfrom\u001b[39;00m \u001b[38;5;28;01mNone\u001b[39;00m\n\u001b[1;32m    123\u001b[0m \u001b[38;5;28;01mfinally\u001b[39;00m:\n\u001b[1;32m    124\u001b[0m     \u001b[38;5;28;01mdel\u001b[39;00m filtered_tb\n",
      "File \u001b[0;32m/opt/homebrew/anaconda3/lib/python3.11/site-packages/keras/src/layers/input_spec.py:227\u001b[0m, in \u001b[0;36massert_input_compatibility\u001b[0;34m(input_spec, inputs, layer_name)\u001b[0m\n\u001b[1;32m    222\u001b[0m     \u001b[38;5;28;01mfor\u001b[39;00m axis, value \u001b[38;5;129;01min\u001b[39;00m spec\u001b[38;5;241m.\u001b[39maxes\u001b[38;5;241m.\u001b[39mitems():\n\u001b[1;32m    223\u001b[0m         \u001b[38;5;28;01mif\u001b[39;00m value \u001b[38;5;129;01mis\u001b[39;00m \u001b[38;5;129;01mnot\u001b[39;00m \u001b[38;5;28;01mNone\u001b[39;00m \u001b[38;5;129;01mand\u001b[39;00m shape[axis] \u001b[38;5;129;01mnot\u001b[39;00m \u001b[38;5;129;01min\u001b[39;00m {\n\u001b[1;32m    224\u001b[0m             value,\n\u001b[1;32m    225\u001b[0m             \u001b[38;5;28;01mNone\u001b[39;00m,\n\u001b[1;32m    226\u001b[0m         }:\n\u001b[0;32m--> 227\u001b[0m             \u001b[38;5;28;01mraise\u001b[39;00m \u001b[38;5;167;01mValueError\u001b[39;00m(\n\u001b[1;32m    228\u001b[0m                 \u001b[38;5;124mf\u001b[39m\u001b[38;5;124m'\u001b[39m\u001b[38;5;124mInput \u001b[39m\u001b[38;5;132;01m{\u001b[39;00minput_index\u001b[38;5;132;01m}\u001b[39;00m\u001b[38;5;124m of layer \u001b[39m\u001b[38;5;124m\"\u001b[39m\u001b[38;5;132;01m{\u001b[39;00mlayer_name\u001b[38;5;132;01m}\u001b[39;00m\u001b[38;5;124m\"\u001b[39m\u001b[38;5;124m is \u001b[39m\u001b[38;5;124m'\u001b[39m\n\u001b[1;32m    229\u001b[0m                 \u001b[38;5;124mf\u001b[39m\u001b[38;5;124m\"\u001b[39m\u001b[38;5;124mincompatible with the layer: expected axis \u001b[39m\u001b[38;5;132;01m{\u001b[39;00maxis\u001b[38;5;132;01m}\u001b[39;00m\u001b[38;5;124m \u001b[39m\u001b[38;5;124m\"\u001b[39m\n\u001b[1;32m    230\u001b[0m                 \u001b[38;5;124mf\u001b[39m\u001b[38;5;124m\"\u001b[39m\u001b[38;5;124mof input shape to have value \u001b[39m\u001b[38;5;132;01m{\u001b[39;00mvalue\u001b[38;5;132;01m}\u001b[39;00m\u001b[38;5;124m, \u001b[39m\u001b[38;5;124m\"\u001b[39m\n\u001b[1;32m    231\u001b[0m                 \u001b[38;5;124m\"\u001b[39m\u001b[38;5;124mbut received input with \u001b[39m\u001b[38;5;124m\"\u001b[39m\n\u001b[1;32m    232\u001b[0m                 \u001b[38;5;124mf\u001b[39m\u001b[38;5;124m\"\u001b[39m\u001b[38;5;124mshape \u001b[39m\u001b[38;5;132;01m{\u001b[39;00mshape\u001b[38;5;132;01m}\u001b[39;00m\u001b[38;5;124m\"\u001b[39m\n\u001b[1;32m    233\u001b[0m             )\n\u001b[1;32m    234\u001b[0m \u001b[38;5;66;03m# Check shape.\u001b[39;00m\n\u001b[1;32m    235\u001b[0m \u001b[38;5;28;01mif\u001b[39;00m spec\u001b[38;5;241m.\u001b[39mshape \u001b[38;5;129;01mis\u001b[39;00m \u001b[38;5;129;01mnot\u001b[39;00m \u001b[38;5;28;01mNone\u001b[39;00m:\n",
      "\u001b[0;31mValueError\u001b[0m: Exception encountered when calling Sequential.call().\n\n\u001b[1mInput 0 of layer \"dense\" is incompatible with the layer: expected axis -1 of input shape to have value 270848, but received input with shape (1, 346112)\u001b[0m\n\nArguments received by Sequential.call():\n  • inputs=tf.Tensor(shape=(1, 224, 224, 3), dtype=float32)\n  • training=False\n  • mask=None"
     ]
    }
   ],
   "source": [
    "import cv2\n",
    "import numpy as np\n",
    "\n",
    "def real_time_recognition(model, label_names):\n",
    "    # Initialize the webcam (use 0 as the parameter to select the default webcam)\n",
    "    cap = cv2.VideoCapture(0)\n",
    "    \n",
    "    # Check if the webcam is opened correctly\n",
    "    if not cap.isOpened():\n",
    "        raise IOError(\"Cannot open webcam\")\n",
    "    \n",
    "    while True:\n",
    "        ret, frame = cap.read()  # Read a frame from the webcam\n",
    "        if not ret:\n",
    "            break\n",
    "        \n",
    "        # Preprocess the frame for prediction (resize, expand dimensions, normalize)\n",
    "        face = cv2.resize(frame, (224, 224))  # Assuming your model expects 224x224 inputs\n",
    "        face = np.expand_dims(face, axis=0)  # Add batch dimension\n",
    "        face = face / 255.0  # Normalize pixel values to [0, 1] as during training\n",
    "        \n",
    "        prediction = model.predict(face)  # Make prediction\n",
    "        predicted_class = label_names[np.argmax(prediction)]  # Get the name of the predicted class\n",
    "        \n",
    "        # Display the predicted class on the frame\n",
    "        cv2.putText(frame, predicted_class, (50, 50), cv2.FONT_HERSHEY_SIMPLEX, 1, (0, 255, 0), 2, cv2.LINE_AA)\n",
    "        \n",
    "        # Show the frame\n",
    "        cv2.imshow('Real-time Face Recognition', frame)\n",
    "        \n",
    "        # Break the loop when the 'q' key is pressed\n",
    "        if cv2.waitKey(1) & 0xFF == ord('q'):\n",
    "            break\n",
    "    \n",
    "    # Release the webcam and close all OpenCV windows\n",
    "    cap.release()\n",
    "    cv2.destroyAllWindows()\n",
    "\n",
    "# Assuming 'model' is your trained model and 'label_names' is a list of class names\n",
    "real_time_recognition(model, label_names)\n"
   ]
  }
 ],
 "metadata": {
  "kernelspec": {
   "display_name": "Python 3",
   "language": "python",
   "name": "python3"
  },
  "language_info": {
   "codemirror_mode": {
    "name": "ipython",
    "version": 3
   },
   "file_extension": ".py",
   "mimetype": "text/x-python",
   "name": "python",
   "nbconvert_exporter": "python",
   "pygments_lexer": "ipython3",
   "version": "3.11.3"
  }
 },
 "nbformat": 4,
 "nbformat_minor": 2
}
